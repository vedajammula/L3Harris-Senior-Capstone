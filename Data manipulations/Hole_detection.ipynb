{
 "cells": [
  {
   "cell_type": "code",
   "execution_count": 1,
   "metadata": {},
   "outputs": [],
   "source": [
    "import random\n",
    "import numpy as np\n",
    "import csv\n",
    "import pandas as pd"
   ]
  },
  {
   "cell_type": "code",
   "execution_count": 2,
   "metadata": {},
   "outputs": [],
   "source": [
    "DJdf = pd.read_csv(\"C:\\\\Users\\\\Andre\\\\Desktop\\\\SeniorSpring\\\\L3Harris-Senior-Capstone\\\\stock_data\\\\djia_2012.csv\", header=0, names=[\"Date\", \"Avg\"])\n",
    "Nasdf = pd.read_csv(\"C:\\\\Users\\\\Andre\\\\Desktop\\\\SeniorSpring\\\\L3Harris-Senior-Capstone\\\\stock_data\\\\nasdaq_all.csv\")\n",
    "Russdf = pd.read_csv(\"C:\\\\Users\\\\Andre\\\\Desktop\\\\SeniorSpring\\\\L3Harris-Senior-Capstone\\\\stock_data\\\\russel2000_all.csv\")\n",
    "\n",
    "DJdf[\"Date\"] = pd.to_datetime(DJdf[\"Date\"])"
   ]
  },
  {
   "cell_type": "code",
   "execution_count": 3,
   "metadata": {},
   "outputs": [
    {
     "data": {
      "text/html": [
       "<div>\n",
       "<style scoped>\n",
       "    .dataframe tbody tr th:only-of-type {\n",
       "        vertical-align: middle;\n",
       "    }\n",
       "\n",
       "    .dataframe tbody tr th {\n",
       "        vertical-align: top;\n",
       "    }\n",
       "\n",
       "    .dataframe thead th {\n",
       "        text-align: right;\n",
       "    }\n",
       "</style>\n",
       "<table border=\"1\" class=\"dataframe\">\n",
       "  <thead>\n",
       "    <tr style=\"text-align: right;\">\n",
       "      <th></th>\n",
       "      <th>Date</th>\n",
       "      <th>Avg</th>\n",
       "    </tr>\n",
       "  </thead>\n",
       "  <tbody>\n",
       "    <tr>\n",
       "      <th>0</th>\n",
       "      <td>2012-10-31</td>\n",
       "      <td>13096.46</td>\n",
       "    </tr>\n",
       "    <tr>\n",
       "      <th>1</th>\n",
       "      <td>2012-11-01</td>\n",
       "      <td>13232.62</td>\n",
       "    </tr>\n",
       "    <tr>\n",
       "      <th>2</th>\n",
       "      <td>2012-11-02</td>\n",
       "      <td>13093.16</td>\n",
       "    </tr>\n",
       "    <tr>\n",
       "      <th>3</th>\n",
       "      <td>2012-11-05</td>\n",
       "      <td>13112.44</td>\n",
       "    </tr>\n",
       "    <tr>\n",
       "      <th>4</th>\n",
       "      <td>2012-11-06</td>\n",
       "      <td>13245.68</td>\n",
       "    </tr>\n",
       "    <tr>\n",
       "      <th>...</th>\n",
       "      <td>...</td>\n",
       "      <td>...</td>\n",
       "    </tr>\n",
       "    <tr>\n",
       "      <th>2521</th>\n",
       "      <td>2022-11-04</td>\n",
       "      <td>32403.22</td>\n",
       "    </tr>\n",
       "    <tr>\n",
       "      <th>2522</th>\n",
       "      <td>2022-11-07</td>\n",
       "      <td>32827.00</td>\n",
       "    </tr>\n",
       "    <tr>\n",
       "      <th>2523</th>\n",
       "      <td>2022-11-08</td>\n",
       "      <td>33160.83</td>\n",
       "    </tr>\n",
       "    <tr>\n",
       "      <th>2524</th>\n",
       "      <td>2022-11-09</td>\n",
       "      <td>32513.94</td>\n",
       "    </tr>\n",
       "    <tr>\n",
       "      <th>2525</th>\n",
       "      <td>2022-11-10</td>\n",
       "      <td>33715.37</td>\n",
       "    </tr>\n",
       "  </tbody>\n",
       "</table>\n",
       "<p>2526 rows × 2 columns</p>\n",
       "</div>"
      ],
      "text/plain": [
       "           Date       Avg\n",
       "0    2012-10-31  13096.46\n",
       "1    2012-11-01  13232.62\n",
       "2    2012-11-02  13093.16\n",
       "3    2012-11-05  13112.44\n",
       "4    2012-11-06  13245.68\n",
       "...         ...       ...\n",
       "2521 2022-11-04  32403.22\n",
       "2522 2022-11-07  32827.00\n",
       "2523 2022-11-08  33160.83\n",
       "2524 2022-11-09  32513.94\n",
       "2525 2022-11-10  33715.37\n",
       "\n",
       "[2526 rows x 2 columns]"
      ]
     },
     "execution_count": 3,
     "metadata": {},
     "output_type": "execute_result"
    }
   ],
   "source": [
    "DJdf"
   ]
  },
  {
   "cell_type": "code",
   "execution_count": null,
   "metadata": {},
   "outputs": [],
   "source": []
  }
 ],
 "metadata": {
  "kernelspec": {
   "display_name": "Python 3",
   "language": "python",
   "name": "python3"
  },
  "language_info": {
   "codemirror_mode": {
    "name": "ipython",
    "version": 3
   },
   "file_extension": ".py",
   "mimetype": "text/x-python",
   "name": "python",
   "nbconvert_exporter": "python",
   "pygments_lexer": "ipython3",
   "version": "3.10.2"
  },
  "orig_nbformat": 4
 },
 "nbformat": 4,
 "nbformat_minor": 2
}
