{
 "cells": [
  {
   "cell_type": "code",
   "execution_count": 1,
   "metadata": {},
   "outputs": [],
   "source": [
    "import random\n",
    "import numpy as np\n",
    "import csv\n",
    "import pandas as pd"
   ]
  },
  {
   "cell_type": "code",
   "execution_count": 2,
   "metadata": {},
   "outputs": [],
   "source": [
    "def ranks(sample):\n",
    "    indices = sorted(range(len(sample)), key=lambda i: sample[i])\n",
    "    return sorted(indices, key=lambda i: indices[i])\n",
    "\n",
    "#k elements, range(n), minimum distance(d)\n",
    "def sample_with_minimum_distance(n, k, d=1):\n",
    "    sample = random.sample(range(n-(k-1)*(d-1)), k)\n",
    "    return [s + (d-1)*r for s, r in zip(sample, ranks(sample))]"
   ]
  },
  {
   "cell_type": "code",
   "execution_count": 3,
   "metadata": {},
   "outputs": [],
   "source": [
    "DJdf = pd.read_csv(\"C:\\\\Users\\\\Andre\\\\Desktop\\\\SeniorSpring\\\\L3Harris-Senior-Capstone\\\\stock_data\\\\djia_2012.csv\", header=0, names=[\"Date\", \"Avg\"])\n",
    "Nasdf = pd.read_csv(\"C:\\\\Users\\\\Andre\\\\Desktop\\\\SeniorSpring\\\\L3Harris-Senior-Capstone\\\\stock_data\\\\nasdaq_all.csv\")\n",
    "Russdf = pd.read_csv(\"C:\\\\Users\\\\Andre\\\\Desktop\\\\SeniorSpring\\\\L3Harris-Senior-Capstone\\\\stock_data\\\\russel2000_all.csv\")\n",
    "\n",
    "DJdf[\"Date\"] = pd.to_datetime(DJdf[\"Date\"])"
   ]
  },
  {
   "cell_type": "code",
   "execution_count": 4,
   "metadata": {},
   "outputs": [
    {
     "name": "stdout",
     "output_type": "stream",
     "text": [
      "2526\n",
      "13056\n",
      "8864\n"
     ]
    }
   ],
   "source": [
    "print(len(DJdf.index))\n",
    "print(len(Nasdf.index))\n",
    "print(len(Russdf.index))"
   ]
  },
  {
   "attachments": {},
   "cell_type": "markdown",
   "metadata": {},
   "source": [
    "Use the size of the dataframes printed above as n and the number of intervals to be generated as k\n",
    "size_max is the maximum size of the dropped data entries\n",
    "size_min is the minimum"
   ]
  },
  {
   "cell_type": "code",
   "execution_count": 37,
   "metadata": {},
   "outputs": [],
   "source": [
    "def rows_to_drop(size_max, size_min, n, k, d=1):\n",
    "    samples = sample_with_minimum_distance(n, k, d)\n",
    "    temp = []\n",
    "    for index, element in enumerate(samples):\n",
    "        size = random.randint(size_min, size_max)\n",
    "        temp.extend(list(range(element+1, element+size)))\n",
    "    samples.extend(temp)\n",
    "    return samples"
   ]
  },
  {
   "cell_type": "code",
   "execution_count": 38,
   "metadata": {},
   "outputs": [
    {
     "name": "stdout",
     "output_type": "stream",
     "text": [
      "[70, 22, 2, 35, 52, 71, 72, 73, 74, 23, 3, 4, 5, 36, 37, 38, 39, 53, 54, 55]\n"
     ]
    }
   ],
   "source": [
    "#TEST\n",
    "print(rows_to_drop(5,2,100,5,8))"
   ]
  },
  {
   "attachments": {},
   "cell_type": "markdown",
   "metadata": {},
   "source": [
    "To use, run rows_to_drop and then use the generated list as input to df.drop"
   ]
  },
  {
   "attachments": {},
   "cell_type": "markdown",
   "metadata": {},
   "source": [
    "4 week window with 1 week currency"
   ]
  }
 ],
 "metadata": {
  "kernelspec": {
   "display_name": "Python 3",
   "language": "python",
   "name": "python3"
  },
  "language_info": {
   "codemirror_mode": {
    "name": "ipython",
    "version": 3
   },
   "file_extension": ".py",
   "mimetype": "text/x-python",
   "name": "python",
   "nbconvert_exporter": "python",
   "pygments_lexer": "ipython3",
   "version": "3.10.2"
  },
  "orig_nbformat": 4,
  "vscode": {
   "interpreter": {
    "hash": "e395b3927dcb0419b99e42c5532195bb15a0a203ecdf07649cf3ef7ed0edd65c"
   }
  }
 },
 "nbformat": 4,
 "nbformat_minor": 2
}
