{
 "cells": [
  {
   "cell_type": "code",
   "execution_count": 1,
   "metadata": {},
   "outputs": [],
   "source": [
    "import random\n",
    "import numpy as np\n",
    "import csv\n",
    "import pandas as pd\n",
    "from datetime import datetime\n",
    "from datetime import date\n",
    "from datetime import timedelta"
   ]
  },
  {
   "cell_type": "code",
   "execution_count": 2,
   "metadata": {},
   "outputs": [],
   "source": [
    "DJdf = pd.read_csv(\"C:\\\\Users\\\\Andre\\\\Desktop\\\\SeniorSpring\\\\L3Harris-Senior-Capstone\\\\stock_data\\\\djia_2012.csv\", header=0, names=[\"Date\", \"Avg\"])\n",
    "Nasdf = pd.read_csv(\"C:\\\\Users\\\\Andre\\\\Desktop\\\\SeniorSpring\\\\L3Harris-Senior-Capstone\\\\stock_data\\\\nasdaq_all.csv\")\n",
    "Russdf = pd.read_csv(\"C:\\\\Users\\\\Andre\\\\Desktop\\\\SeniorSpring\\\\L3Harris-Senior-Capstone\\\\stock_data\\\\russel2000_all.csv\")\n",
    "\n",
    "DJdf[\"Date\"] = pd.to_datetime(DJdf[\"Date\"])"
   ]
  },
  {
   "cell_type": "code",
   "execution_count": 6,
   "metadata": {},
   "outputs": [],
   "source": [
    "def is_consecutive(df):\n",
    "    dataf = pd.DataFrame({'Date':df.Date,'diff':df.Date-df.Date.shift(1)})\n",
    "    dataf[\"Is Weekday\"] = dataf['Date'].dt.dayofweek <= 4\n",
    "    temp = pd.DataFrame()\n",
    "    temp['Date'] = dataf.loc[(dataf['Is Weekday'] == False) | (((dataf['diff'] >= timedelta(days=2)) & (dataf['Date'].dt.dayofweek != 0))), 'Date']\n",
    "    return temp\n",
    "    #add any dataf['Is Weekday'] is False to retun dataframe\n",
    "    #add any diff>2 || (dayofweek is sat"
   ]
  },
  {
   "cell_type": "code",
   "execution_count": 7,
   "metadata": {},
   "outputs": [
    {
     "name": "stdout",
     "output_type": "stream",
     "text": [
      "         Date\n",
      "0  2023-03-03\n",
      "1  2023-03-06\n",
      "2  2023-03-07\n",
      "3  2023-03-08\n",
      "4  2023-03-09\n",
      "5  2023-03-10\n",
      "6  2023-03-11\n",
      "7  2023-03-12\n",
      "8  2023-03-13\n",
      "9  2023-03-14\n",
      "10 2023-03-16\n",
      "11 2023-03-17\n",
      "12 2023-03-21\n",
      "         Date\n",
      "6  2023-03-11\n",
      "7  2023-03-12\n",
      "10 2023-03-16\n",
      "12 2023-03-21\n"
     ]
    }
   ],
   "source": [
    "df=pd.DataFrame({'Date':pd.to_datetime(['2023-3-3','2023-3-6','2023-3-7','2023-3-8','2023-3-9','2023-3-10','2023-3-11','2023-3-12','2023-3-13','2023-3-14', '2023-3-16', '2023-3-17', '2023-3-21'])})\n",
    "\n",
    "print(df)\n",
    "print(is_consecutive(df))"
   ]
  }
 ],
 "metadata": {
  "kernelspec": {
   "display_name": "Python 3",
   "language": "python",
   "name": "python3"
  },
  "language_info": {
   "codemirror_mode": {
    "name": "ipython",
    "version": 3
   },
   "file_extension": ".py",
   "mimetype": "text/x-python",
   "name": "python",
   "nbconvert_exporter": "python",
   "pygments_lexer": "ipython3",
   "version": "3.10.2"
  },
  "orig_nbformat": 4
 },
 "nbformat": 4,
 "nbformat_minor": 2
}
